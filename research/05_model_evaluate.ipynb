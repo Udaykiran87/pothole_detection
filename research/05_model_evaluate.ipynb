{
 "cells": [
  {
   "cell_type": "code",
   "execution_count": 1,
   "metadata": {},
   "outputs": [],
   "source": [
    "import os"
   ]
  },
  {
   "cell_type": "code",
   "execution_count": 2,
   "metadata": {},
   "outputs": [
    {
     "data": {
      "text/plain": [
       "'/home/uday/Practise/github_personal/pothole_detection/pothole_detection/research'"
      ]
     },
     "execution_count": 2,
     "metadata": {},
     "output_type": "execute_result"
    }
   ],
   "source": [
    "%pwd"
   ]
  },
  {
   "cell_type": "code",
   "execution_count": 3,
   "metadata": {},
   "outputs": [],
   "source": [
    "os.chdir(\"../\")"
   ]
  },
  {
   "cell_type": "code",
   "execution_count": 4,
   "metadata": {},
   "outputs": [
    {
     "data": {
      "text/plain": [
       "'/home/uday/Practise/github_personal/pothole_detection/pothole_detection'"
      ]
     },
     "execution_count": 4,
     "metadata": {},
     "output_type": "execute_result"
    }
   ],
   "source": [
    "%pwd"
   ]
  },
  {
   "cell_type": "code",
   "execution_count": 5,
   "metadata": {},
   "outputs": [],
   "source": [
    "from pathlib import Path\n",
    "from dataclasses import dataclass"
   ]
  },
  {
   "cell_type": "code",
   "execution_count": 6,
   "metadata": {},
   "outputs": [],
   "source": [
    "@dataclass(frozen=True)\n",
    "class ValidationConfig:\n",
    "    params_task: str\n",
    "    params_mode: str\n",
    "    params_model: Path\n",
    "    params_imgsz: int\n",
    "    # params_data: Path\n",
    "    params_name: str\n",
    "    params_project: Path"
   ]
  },
  {
   "cell_type": "code",
   "execution_count": 7,
   "metadata": {},
   "outputs": [],
   "source": [
    "from potholeDetector.constants import *\n",
    "from potholeDetector.utils.common import *"
   ]
  },
  {
   "cell_type": "code",
   "execution_count": 8,
   "metadata": {},
   "outputs": [],
   "source": [
    "class ConfigurationManager:\n",
    "    def __init__(\n",
    "        self, \n",
    "        config_filepath = CONFIG_FILE_PATH,\n",
    "        params_filepath = PARAMS_FILE_PATH):\n",
    "        self.config = read_yaml(config_filepath)\n",
    "        self.params = read_yaml(params_filepath)\n",
    "    \n",
    "    def get_validation_config(self) -> ValidationConfig:\n",
    "        # config_prepare_base_model = self.config.prepare_base_model\n",
    "        config_validation = self.config.validation\n",
    "        params = self.params.evaluation\n",
    "        create_directories([\n",
    "            self.config.artifacts_root, \n",
    "            config_validation.root_dir, \n",
    "            config_validation.validation_results_dir,\n",
    "            config_validation.weights_dir\n",
    "            ])\n",
    "        validation_config = ValidationConfig(\n",
    "            params_task=params.task,\n",
    "            params_mode=params.mode,\n",
    "            params_model=params.model,\n",
    "            params_imgsz=params.imgsz,\n",
    "            # params_data=Path(params.data),\n",
    "            params_name=params.name, \n",
    "            params_project=params.project, \n",
    "        )\n",
    "\n",
    "        return validation_config"
   ]
  },
  {
   "cell_type": "code",
   "execution_count": 9,
   "metadata": {},
   "outputs": [],
   "source": [
    "from ultralytics import YOLO\n",
    "import shutil\n",
    "import os"
   ]
  },
  {
   "cell_type": "code",
   "execution_count": 18,
   "metadata": {},
   "outputs": [],
   "source": [
    "class Validation:\n",
    "    def __init__(self, config: ValidationConfig):\n",
    "        self.config = config\n",
    "    \n",
    "    def val(self):\n",
    "        # Load the YOLOv8 model.\n",
    "        model = YOLO(self.config.params_model)\n",
    "\n",
    "\n",
    "        # Evaluate the model.\n",
    "        # yolo task=detect mode=val model=runs/detect/yolov8m_v8_50e/weights/best.pt name=yolov8m_eval data=pothole_v8.yaml imgsz=1280\n",
    "        results = model.val(\n",
    "            task=self.config.params_task,\n",
    "            mode=self.config.params_mode,\n",
    "            # model=self.config.params_model,\n",
    "            imgsz=self.config.params_imgsz,\n",
    "            # data=self.config.params_data,\n",
    "            name=self.config.params_name,\n",
    "            project=self.config.params_project,\n",
    "        )\n",
    "        \n",
    "    def copy_final_model_weight(self, proj_config):\n",
    "        \"\"\"\n",
    "        Copy the final model weight file to the specified destination directory.\n",
    "\n",
    "        This function takes the source path of the final model weight file and the\n",
    "        destination directory path from the project configuration.\n",
    "\n",
    "        Args:\n",
    "            proj_config (ProjectConfig): An instance of the project configuration class.\n",
    "\n",
    "        Returns:\n",
    "            None\n",
    "        \"\"\"\n",
    "        # Get the source path of the final model weight file from params\n",
    "        source_path = self.config.params_model\n",
    "        \n",
    "        # Get the destination directory from the project configuration\n",
    "        destination_directory = proj_config.config.validation.weights_dir\n",
    "        \n",
    "        # Check if the source file and destination directory exist\n",
    "        if os.path.isfile(source_path) and os.path.isdir(destination_directory):\n",
    "            # Copy the source file to the destination directory with a specific name\n",
    "            destination_path = os.path.join(destination_directory, 'final_weight.pt')\n",
    "            shutil.copy(source_path, destination_path)\n",
    "            print(f\"Final model weight file copied to {destination_path}\")\n",
    "        else:\n",
    "            print(\"Error: Either the source file or the destination directory does not exist.\")\n",
    "\n",
    "\n"
   ]
  },
  {
   "cell_type": "code",
   "execution_count": 19,
   "metadata": {},
   "outputs": [
    {
     "name": "stdout",
     "output_type": "stream",
     "text": [
      "[2023-08-20 11:46:23,861: INFO:common:YAML file: config/config.yaml loaded successfully]\n",
      "[2023-08-20 11:46:23,865: INFO:common:YAML file: params.yaml loaded successfully]\n",
      "[2023-08-20 11:46:23,867: INFO:common:Created directory at: artifacts]\n",
      "[2023-08-20 11:46:23,867: INFO:common:Created directory at: artifacts/validation]\n",
      "[2023-08-20 11:46:23,868: INFO:common:Created directory at: artifacts/validation/runs]\n",
      "[2023-08-20 11:46:23,868: INFO:common:Created directory at: artifacts/validation/weights]\n",
      "ValidationConfig(params_task='detect', params_mode='val', params_model='artifacts/training/runs/yolov8n_v8_50e/weights/best.pt', params_imgsz=1280, params_name='yolov8n_eval', params_project='/home/uday/Practise/github_personal/pothole_detection/pothole_detection/artifacts/validation/runs')\n"
     ]
    },
    {
     "name": "stderr",
     "output_type": "stream",
     "text": [
      "Ultralytics YOLOv8.0.135 🚀 Python-3.10.6 torch-2.0.1+cu117 CUDA:0 (NVIDIA GeForce RTX 3060 Laptop GPU, 5938MiB)\n",
      "Model summary (fused): 168 layers, 3005843 parameters, 0 gradients\n",
      "\u001b[34m\u001b[1mval: \u001b[0mScanning /home/uday/Practise/github_personal/pothole_detection/pothole_detection/artifacts/data_ingestion/dataset/valid/labels.cache... 271 images, 0 backgrounds, 0 corrupt: 100%|██████████| 271/271 [00:00<?, ?it/s]\n",
      "\u001b[34m\u001b[1mval: \u001b[0mWARNING ⚠️ /home/uday/Practise/github_personal/pothole_detection/pothole_detection/artifacts/data_ingestion/dataset/valid/images/G0011603.jpg: 1 duplicate labels removed\n",
      "\u001b[34m\u001b[1mval: \u001b[0mWARNING ⚠️ /home/uday/Practise/github_personal/pothole_detection/pothole_detection/artifacts/data_ingestion/dataset/valid/images/G0011614.jpg: 1 duplicate labels removed\n",
      "\u001b[34m\u001b[1mval: \u001b[0mWARNING ⚠️ /home/uday/Practise/github_personal/pothole_detection/pothole_detection/artifacts/data_ingestion/dataset/valid/images/G0011616.jpg: 2 duplicate labels removed\n",
      "\u001b[34m\u001b[1mval: \u001b[0mWARNING ⚠️ /home/uday/Practise/github_personal/pothole_detection/pothole_detection/artifacts/data_ingestion/dataset/valid/images/G0011661.jpg: 1 duplicate labels removed\n",
      "\u001b[34m\u001b[1mval: \u001b[0mWARNING ⚠️ /home/uday/Practise/github_personal/pothole_detection/pothole_detection/artifacts/data_ingestion/dataset/valid/images/G0011662.jpg: 1 duplicate labels removed\n",
      "\u001b[34m\u001b[1mval: \u001b[0mWARNING ⚠️ /home/uday/Practise/github_personal/pothole_detection/pothole_detection/artifacts/data_ingestion/dataset/valid/images/G0011664.jpg: 1 duplicate labels removed\n",
      "\u001b[34m\u001b[1mval: \u001b[0mWARNING ⚠️ /home/uday/Practise/github_personal/pothole_detection/pothole_detection/artifacts/data_ingestion/dataset/valid/images/G0011677.jpg: 1 duplicate labels removed\n",
      "\u001b[34m\u001b[1mval: \u001b[0mWARNING ⚠️ /home/uday/Practise/github_personal/pothole_detection/pothole_detection/artifacts/data_ingestion/dataset/valid/images/G0011678.jpg: 1 duplicate labels removed\n",
      "\u001b[34m\u001b[1mval: \u001b[0mWARNING ⚠️ /home/uday/Practise/github_personal/pothole_detection/pothole_detection/artifacts/data_ingestion/dataset/valid/images/G0011705.jpg: 1 duplicate labels removed\n",
      "\u001b[34m\u001b[1mval: \u001b[0mWARNING ⚠️ /home/uday/Practise/github_personal/pothole_detection/pothole_detection/artifacts/data_ingestion/dataset/valid/images/G0011769.jpg: 3 duplicate labels removed\n",
      "\u001b[34m\u001b[1mval: \u001b[0mWARNING ⚠️ /home/uday/Practise/github_personal/pothole_detection/pothole_detection/artifacts/data_ingestion/dataset/valid/images/G0011772.jpg: 4 duplicate labels removed\n",
      "\u001b[34m\u001b[1mval: \u001b[0mWARNING ⚠️ /home/uday/Practise/github_personal/pothole_detection/pothole_detection/artifacts/data_ingestion/dataset/valid/images/G0011773.jpg: 2 duplicate labels removed\n",
      "\u001b[34m\u001b[1mval: \u001b[0mWARNING ⚠️ /home/uday/Practise/github_personal/pothole_detection/pothole_detection/artifacts/data_ingestion/dataset/valid/images/G0011876.jpg: 2 duplicate labels removed\n",
      "\u001b[34m\u001b[1mval: \u001b[0mWARNING ⚠️ /home/uday/Practise/github_personal/pothole_detection/pothole_detection/artifacts/data_ingestion/dataset/valid/images/G0011878.jpg: 2 duplicate labels removed\n",
      "\u001b[34m\u001b[1mval: \u001b[0mWARNING ⚠️ /home/uday/Practise/github_personal/pothole_detection/pothole_detection/artifacts/data_ingestion/dataset/valid/images/G0011881.jpg: 2 duplicate labels removed\n",
      "\u001b[34m\u001b[1mval: \u001b[0mWARNING ⚠️ /home/uday/Practise/github_personal/pothole_detection/pothole_detection/artifacts/data_ingestion/dataset/valid/images/G0011966.jpg: 2 duplicate labels removed\n",
      "\u001b[34m\u001b[1mval: \u001b[0mWARNING ⚠️ /home/uday/Practise/github_personal/pothole_detection/pothole_detection/artifacts/data_ingestion/dataset/valid/images/G0011968.jpg: 2 duplicate labels removed\n",
      "\u001b[34m\u001b[1mval: \u001b[0mWARNING ⚠️ /home/uday/Practise/github_personal/pothole_detection/pothole_detection/artifacts/data_ingestion/dataset/valid/images/G0011969.jpg: 2 duplicate labels removed\n",
      "\u001b[34m\u001b[1mval: \u001b[0mWARNING ⚠️ /home/uday/Practise/github_personal/pothole_detection/pothole_detection/artifacts/data_ingestion/dataset/valid/images/G0011970.jpg: 1 duplicate labels removed\n",
      "\u001b[34m\u001b[1mval: \u001b[0mWARNING ⚠️ /home/uday/Practise/github_personal/pothole_detection/pothole_detection/artifacts/data_ingestion/dataset/valid/images/G0011978.jpg: 2 duplicate labels removed\n",
      "\u001b[34m\u001b[1mval: \u001b[0mWARNING ⚠️ /home/uday/Practise/github_personal/pothole_detection/pothole_detection/artifacts/data_ingestion/dataset/valid/images/G0011981.jpg: 2 duplicate labels removed\n",
      "\u001b[34m\u001b[1mval: \u001b[0mWARNING ⚠️ /home/uday/Practise/github_personal/pothole_detection/pothole_detection/artifacts/data_ingestion/dataset/valid/images/G0011982.jpg: 1 duplicate labels removed\n",
      "                 Class     Images  Instances      Box(P          R      mAP50  mAP50-95): 100%|██████████| 17/17 [00:06<00:00,  2.56it/s]\n",
      "                   all        271        716      0.588      0.441      0.473      0.215\n",
      "Speed: 1.7ms preprocess, 8.1ms inference, 0.0ms loss, 3.4ms postprocess per image\n",
      "Results saved to \u001b[1m/home/uday/Practise/github_personal/pothole_detection/pothole_detection/artifacts/validation/runs/yolov8n_eval7\u001b[0m\n"
     ]
    },
    {
     "name": "stdout",
     "output_type": "stream",
     "text": [
      "None\n",
      "Final model weight file copied to artifacts/validation/weights/final_weight.pt\n"
     ]
    }
   ],
   "source": [
    "try:\n",
    "    config = ConfigurationManager()\n",
    "    validation_config = config.get_validation_config()\n",
    "    print(validation_config)\n",
    "    validation = Validation(config=validation_config)\n",
    "    result = validation.val()\n",
    "    print(result)\n",
    "    validation.copy_final_model_weight(config)\n",
    "except Exception as e:\n",
    "    raise e"
   ]
  },
  {
   "cell_type": "code",
   "execution_count": null,
   "metadata": {},
   "outputs": [],
   "source": []
  },
  {
   "cell_type": "code",
   "execution_count": null,
   "metadata": {},
   "outputs": [],
   "source": []
  }
 ],
 "metadata": {
  "kernelspec": {
   "display_name": "yolov8_pothole",
   "language": "python",
   "name": "python3"
  },
  "language_info": {
   "codemirror_mode": {
    "name": "ipython",
    "version": 3
   },
   "file_extension": ".py",
   "mimetype": "text/x-python",
   "name": "python",
   "nbconvert_exporter": "python",
   "pygments_lexer": "ipython3",
   "version": "3.10.6"
  },
  "orig_nbformat": 4
 },
 "nbformat": 4,
 "nbformat_minor": 2
}
