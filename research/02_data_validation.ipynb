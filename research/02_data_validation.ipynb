{
 "cells": [
  {
   "cell_type": "code",
   "execution_count": 3,
   "metadata": {},
   "outputs": [],
   "source": [
    "import os\n",
    "import glob\n"
   ]
  },
  {
   "cell_type": "code",
   "execution_count": 1,
   "metadata": {},
   "outputs": [
    {
     "data": {
      "text/plain": [
       "'/home/uday/Practise/github_personal/pothole_detection/pothole_detection/research'"
      ]
     },
     "execution_count": 1,
     "metadata": {},
     "output_type": "execute_result"
    }
   ],
   "source": [
    "%pwd"
   ]
  },
  {
   "cell_type": "code",
   "execution_count": 4,
   "metadata": {},
   "outputs": [],
   "source": [
    "os.chdir(\"../\")"
   ]
  },
  {
   "cell_type": "code",
   "execution_count": 5,
   "metadata": {},
   "outputs": [
    {
     "data": {
      "text/plain": [
       "'/home/uday/Practise/github_personal/pothole_detection/pothole_detection'"
      ]
     },
     "execution_count": 5,
     "metadata": {},
     "output_type": "execute_result"
    }
   ],
   "source": [
    "%pwd"
   ]
  },
  {
   "cell_type": "code",
   "execution_count": 24,
   "metadata": {},
   "outputs": [],
   "source": [
    "from pathlib import Path\n",
    "from typing import List\n",
    "from dataclasses import dataclass"
   ]
  },
  {
   "cell_type": "code",
   "execution_count": 25,
   "metadata": {},
   "outputs": [],
   "source": [
    "@dataclass(frozen=True)\n",
    "class DataValidatorConfig:\n",
    "    data_dir: Path\n",
    "    data_folder: str\n",
    "    train_folder: str\n",
    "    val_folder: str\n",
    "    sub_dirs: List[str]"
   ]
  },
  {
   "cell_type": "code",
   "execution_count": 26,
   "metadata": {},
   "outputs": [],
   "source": [
    "from potholeDetector.constants import *\n",
    "from potholeDetector.utils.common import *"
   ]
  },
  {
   "cell_type": "code",
   "execution_count": 36,
   "metadata": {},
   "outputs": [],
   "source": [
    "class ConfigurationManager:\n",
    "    def __init__(\n",
    "        self,\n",
    "        config_filepath = CONFIG_FILE_PATH,\n",
    "        params_filepath = PARAMS_FILE_PATH): \n",
    "        self.config = read_yaml(config_filepath)\n",
    "        self.params = read_yaml(params_filepath)\n",
    "\n",
    "\n",
    "    def get_data_validation_config(self) -> DataValidatorConfig:\n",
    "        config = self.config.data_validation\n",
    "        self.data_dir = config.data_dir\n",
    "        self.data_folder = config.data_folder\n",
    "        self.train_folder = config.train_folder\n",
    "        self.val_folder = config.val_folder\n",
    "        self.sub_dirs = config.sub_dirs\n",
    "\n",
    "        data_ingestion_config = DataValidatorConfig(\n",
    "            self.data_dir,\n",
    "            self.data_folder,\n",
    "            self.train_folder,\n",
    "            self.val_folder,\n",
    "            self.sub_dirs,\n",
    "            )\n",
    "\n",
    "        return data_ingestion_config                   "
   ]
  },
  {
   "cell_type": "code",
   "execution_count": 37,
   "metadata": {},
   "outputs": [],
   "source": [
    "import os\n",
    "import glob\n",
    "import zipfile\n",
    "from pathlib import Path"
   ]
  },
  {
   "cell_type": "code",
   "execution_count": 47,
   "metadata": {},
   "outputs": [],
   "source": [
    "class DataValidation:\n",
    "    def __init__(self, config:DataValidatorConfig):\n",
    "        self.config = config\n",
    "        self.train_dir = os.path.join(self.config.data_dir, self.config.data_folder, self.config.train_folder)\n",
    "        self.valid_dir = os.path.join(self.config.data_dir, self.config.data_folder, self.config.val_folder)        \n",
    "        \n",
    "\n",
    "    def validate_folder_structure(self):\n",
    "        \"\"\"\n",
    "        Validate the folder structure of the dataset for YOLO.\n",
    "\n",
    "        Returns:\n",
    "            bool: True if the folder structure is valid, False otherwise.\n",
    "        \"\"\"        \n",
    "        required_subdirs = self.config.sub_dirs\n",
    "        for dir in [self.train_dir, self.valid_dir]:\n",
    "            if not os.path.isdir(dir):\n",
    "                raise False\n",
    "            for folder in required_subdirs:\n",
    "                path = os.path.join(dir, folder)\n",
    "                if not os.path.isdir(path):\n",
    "                    raise False\n",
    "        return True\n",
    "\n",
    "    def validate_image_label_counts(self):\n",
    "        \"\"\"\n",
    "        Validate that the number of images matches the number of label files for YOLO.\n",
    "        If a mismatch is found, delete the corresponding files.\n",
    "        \"\"\"        \n",
    "        self._validate_counts_for_folder(self.train_dir)\n",
    "        self._validate_counts_for_folder(self.valid_dir)\n",
    "\n",
    "    def _validate_counts_for_folder(self, folder_path):\n",
    "        \"\"\"\n",
    "        Validate image and label counts for a specific folder.\n",
    "        If a mismatch is found, delete the corresponding files.\n",
    "\n",
    "        Args:\n",
    "            folder_path (str): Path to the folder containing images and labels.\n",
    "        \"\"\"\n",
    "        required_subdirs = self.config.sub_dirs\n",
    "        image_dir = os.path.join(folder_path, required_subdirs[0])  # Path to the folder containing images\n",
    "        label_dir = os.path.join(folder_path, required_subdirs[1])  # Path to the folder containing labels\n",
    "\n",
    "        image_files = set(self._get_file_names(image_dir, \".jpg\"))\n",
    "        label_files = set(self._get_file_names(label_dir, \".txt\"))\n",
    "\n",
    "        missing_image_files = list(label_files - image_files)\n",
    "        missing_label_files = list(image_files - label_files)\n",
    "\n",
    "        # Delete files with missing image or label\n",
    "        for file in missing_image_files:\n",
    "            image_path = os.path.join(image_dir, f\"{file}.jpg\")\n",
    "            label_path = os.path.join(label_dir, f\"{file}.txt\")\n",
    "            self._delete_file(image_path)\n",
    "            self._delete_file(label_path)\n",
    "\n",
    "        for file in missing_label_files:\n",
    "            image_path = os.path.join(image_dir, f\"{file}.jpg\")\n",
    "            label_path = os.path.join(label_dir, f\"{file}.txt\")\n",
    "            self._delete_file(image_path)\n",
    "            self._delete_file(label_path)\n",
    "\n",
    "    def _get_file_names(self, directory, extension):\n",
    "        \"\"\"\n",
    "        Get a list of file names with a specific extension in a directory.\n",
    "\n",
    "        Args:\n",
    "            directory (str): Directory path.\n",
    "            extension (str): File extension (e.g., \".jpg\", \".txt\").\n",
    "\n",
    "        Returns:\n",
    "            list: List of file names.\n",
    "        \"\"\"\n",
    "        return [Path(file).stem for file in glob.glob(os.path.join(directory, f\"*{extension}\"))]            \n",
    "\n",
    "    def _delete_file(self, file_path):\n",
    "        \"\"\"\n",
    "        Delete a file.\n",
    "\n",
    "        Args:\n",
    "            file_path (str): Path to the file.\n",
    "        \"\"\"\n",
    "        if os.path.isfile(file_path):\n",
    "            os.remove(file_path)                                    \n"
   ]
  },
  {
   "cell_type": "code",
   "execution_count": 49,
   "metadata": {},
   "outputs": [
    {
     "name": "stdout",
     "output_type": "stream",
     "text": [
      "[2023-07-22 13:35:57,278: INFO:common:YAML file: config/config.yaml loaded successfully]\n",
      "[2023-07-22 13:35:57,279: INFO:common:YAML file: params.yaml loaded successfully]\n"
     ]
    }
   ],
   "source": [
    "try:\n",
    "    config = ConfigurationManager()\n",
    "    data_validation_config = config.get_data_validation_config()\n",
    "    data_validation = DataValidation(config=data_validation_config)\n",
    "    data_validation.validate_folder_structure()\n",
    "    data_validation.validate_image_label_counts()\n",
    "except Exception as e:\n",
    "    raise e\n"
   ]
  },
  {
   "cell_type": "code",
   "execution_count": null,
   "metadata": {},
   "outputs": [],
   "source": []
  },
  {
   "cell_type": "code",
   "execution_count": null,
   "metadata": {},
   "outputs": [],
   "source": []
  }
 ],
 "metadata": {
  "kernelspec": {
   "display_name": "yolov8_pothole",
   "language": "python",
   "name": "python3"
  },
  "language_info": {
   "codemirror_mode": {
    "name": "ipython",
    "version": 3
   },
   "file_extension": ".py",
   "mimetype": "text/x-python",
   "name": "python",
   "nbconvert_exporter": "python",
   "pygments_lexer": "ipython3",
   "version": "3.10.6"
  },
  "orig_nbformat": 4
 },
 "nbformat": 4,
 "nbformat_minor": 2
}
