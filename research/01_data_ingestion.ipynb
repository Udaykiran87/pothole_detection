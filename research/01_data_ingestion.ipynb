{
 "cells": [
  {
   "cell_type": "code",
   "execution_count": 1,
   "metadata": {},
   "outputs": [
    {
     "data": {
      "text/plain": [
       "'/home/uday/Practise/github_personal/pothole_detection/pothole_detection/research'"
      ]
     },
     "execution_count": 1,
     "metadata": {},
     "output_type": "execute_result"
    }
   ],
   "source": [
    "%pwd"
   ]
  },
  {
   "cell_type": "code",
   "execution_count": 2,
   "metadata": {},
   "outputs": [
    {
     "data": {
      "text/plain": [
       "'/home/uday/Practise/github_personal/pothole_detection/pothole_detection'"
      ]
     },
     "execution_count": 2,
     "metadata": {},
     "output_type": "execute_result"
    }
   ],
   "source": [
    "import os\n",
    "os.chdir(\"../\")\n",
    "%pwd"
   ]
  },
  {
   "cell_type": "code",
   "execution_count": 3,
   "metadata": {},
   "outputs": [],
   "source": [
    "\n",
    "from dataclasses import dataclass\n",
    "from pathlib import Path\n",
    "\n",
    "@dataclass(frozen=True)\n",
    "class DataIngestionConfig:\n",
    "    root_dir: Path\n",
    "    source_URL: str\n",
    "    local_data_file: Path\n",
    "    unzip_dir: Path\n",
    "    unzip_folder: str"
   ]
  },
  {
   "cell_type": "code",
   "execution_count": 4,
   "metadata": {},
   "outputs": [],
   "source": [
    "from potholeDetector.constants import *\n",
    "from potholeDetector.utils.common import *"
   ]
  },
  {
   "cell_type": "code",
   "execution_count": 5,
   "metadata": {},
   "outputs": [],
   "source": [
    "class ConfigurationManager:\n",
    "    def __init__(\n",
    "                self,\n",
    "                config_filepath: str = CONFIG_FILE_PATH,\n",
    "                params_filepath: str = PARAMS_FILE_PATH):\n",
    "                self.config = read_yaml(config_filepath)\n",
    "                self.params = read_yaml(params_filepath)\n",
    "\n",
    "                create_directories([self.config.artifacts_root])\n",
    "\n",
    "    def get_data_ingestion_config(self) -> DataIngestionConfig:\n",
    "            config = self.config.data_ingestion\n",
    "\n",
    "            create_directories([config.root_dir])\n",
    "\n",
    "            data_ingestion_config = DataIngestionConfig(\n",
    "                    root_dir = config.root_dir,\n",
    "                    source_URL = config.source_URL,\n",
    "                    local_data_file = config.local_data_file,\n",
    "                    unzip_dir = config.unzip_dir,\n",
    "                    unzip_folder = config.unzip_folder,\n",
    "            )\n",
    "\n",
    "            return data_ingestion_config"
   ]
  },
  {
   "cell_type": "code",
   "execution_count": 6,
   "metadata": {},
   "outputs": [],
   "source": [
    "import os\n",
    "import urllib.request as request\n",
    "import zipfile\n",
    "from potholeDetector import logger\n",
    "from potholeDetector.utils.common import *"
   ]
  },
  {
   "cell_type": "code",
   "execution_count": 7,
   "metadata": {},
   "outputs": [],
   "source": [
    "class DataIngestion:\n",
    "    def __init__(self, config: DataIngestionConfig):\n",
    "        self.config = config\n",
    "\n",
    "    def download_file(self):\n",
    "        if not os.path.exists(self.config.local_data_file):\n",
    "            filename, headers = request.urlretrieve(\n",
    "                url = self.config.source_URL,\n",
    "                filename = self.config.local_data_file\n",
    "            )\n",
    "            logger.info(f\"{filename} download! with following info: \\n{headers}\")\n",
    "        else:\n",
    "            logger.info(f\"File already exists of size: {get_size(Path(self.config.local_data_file))}\")  \n",
    "         \n",
    "\n",
    "    def extract_zip_file(self):\n",
    "        \"\"\"\n",
    "        Extracts the zip file into the data directory and renames the extracted folder.\n",
    "        \"\"\"\n",
    "        print(\"i am here\")\n",
    "        unzip_path = self.config.unzip_dir\n",
    "        unzip_folder = self.config.unzip_folder\n",
    "        os.makedirs(unzip_path, exist_ok=True)\n",
    "        with zipfile.ZipFile(self.config.local_data_file, 'r') as zip_ref:\n",
    "            zip_ref.extractall(unzip_path)\n",
    "            zip_infos = zip_ref.infolist()\n",
    "            final_folder_name = zip_infos[0].filename            \n",
    "\n",
    "        # Get the extracted folder name\n",
    "        # extracted_folder_name = os.path.splitext(os.path.basename(self.config.local_data_file))[0]\n",
    "        print(final_folder_name)\n",
    "\n",
    "        # Get the full path of the extracted folder\n",
    "        extracted_folder_full_path = os.path.join(unzip_path, final_folder_name)\n",
    "\n",
    "\n",
    "        # Rename the extracted folder\n",
    "        renamed_folder_path = os.path.join(unzip_path, unzip_folder)\n",
    "        print(extracted_folder_full_path,renamed_folder_path)\n",
    "        os.rename(extracted_folder_full_path, renamed_folder_path)\n",
    "\n"
   ]
  },
  {
   "cell_type": "code",
   "execution_count": 8,
   "metadata": {},
   "outputs": [
    {
     "name": "stdout",
     "output_type": "stream",
     "text": [
      "[2023-07-19 01:10:23,667: INFO:common:YAML file: config/config.yaml loaded successfully]\n",
      "[2023-07-19 01:10:23,669: INFO:common:YAML file: params.yaml loaded successfully]\n",
      "[2023-07-19 01:10:23,669: INFO:common:Created directory at: artifacts]\n",
      "[2023-07-19 01:10:23,670: INFO:common:Created directory at: artifacts/data_ingestion]\n",
      "[2023-07-19 01:14:06,491: INFO:361887018:artifacts/data_ingestion/data.zip download! with following info: \n",
      "Accept-Ranges: bytes\n",
      "Cache-Control: max-age=60\n",
      "Content-Disposition: attachment; filename=\"pothole_dataset_v8.zip\"; filename*=UTF-8''pothole_dataset_v8.zip\n",
      "Content-Security-Policy: sandbox\n",
      "Etag: 1673237689276858d\n",
      "Pragma: public\n",
      "Referrer-Policy: no-referrer\n",
      "Vary: Origin\n",
      "X-Content-Security-Policy: sandbox\n",
      "X-Content-Type-Options: nosniff\n",
      "X-Robots-Tag: noindex, nofollow, noimageindex\n",
      "X-Server-Response-Time: 321\n",
      "X-Webkit-Csp: sandbox\n",
      "Content-Type: application/binary\n",
      "Accept-Encoding: identity,gzip\n",
      "Date: Tue, 18 Jul 2023 19:40:25 GMT\n",
      "Server: envoy\n",
      "Strict-Transport-Security: max-age=31536000; includeSubDomains; preload\n",
      "Content-Length: 2629111059\n",
      "X-Dropbox-Response-Origin: far_remote\n",
      "X-Dropbox-Request-Id: c07d13569e0d46589e8d85a9f68de813\n",
      "Connection: close\n",
      "\n",
      "]\n",
      "i am here\n",
      "pothole_dataset_v8/\n",
      "artifacts/data_ingestion/pothole_dataset_v8/ artifacts/data_ingestion/dataset\n"
     ]
    }
   ],
   "source": [
    "try:\n",
    "    config = ConfigurationManager()\n",
    "    data_ingestion_config = config.get_data_ingestion_config()\n",
    "    data_ingestion = DataIngestion(config=data_ingestion_config)\n",
    "    data_ingestion.download_file()\n",
    "    data_ingestion.extract_zip_file()\n",
    "except Exception as e:\n",
    "    raise e"
   ]
  },
  {
   "cell_type": "code",
   "execution_count": null,
   "metadata": {},
   "outputs": [],
   "source": []
  }
 ],
 "metadata": {
  "kernelspec": {
   "display_name": "yolov8_pothole",
   "language": "python",
   "name": "python3"
  },
  "language_info": {
   "codemirror_mode": {
    "name": "ipython",
    "version": 3
   },
   "file_extension": ".py",
   "mimetype": "text/x-python",
   "name": "python",
   "nbconvert_exporter": "python",
   "pygments_lexer": "ipython3",
   "version": "3.10.6"
  },
  "orig_nbformat": 4
 },
 "nbformat": 4,
 "nbformat_minor": 2
}
